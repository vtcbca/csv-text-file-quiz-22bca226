{
 "cells": [
  {
   "cell_type": "code",
   "execution_count": 1,
   "id": "5e3d2c99",
   "metadata": {},
   "outputs": [],
   "source": [
    "import csv"
   ]
  },
  {
   "cell_type": "code",
   "execution_count": 3,
   "id": "0a5ecd3b",
   "metadata": {},
   "outputs": [],
   "source": [
    "f=open('c:\\sqlite3\\intro.csv','w',newline='')"
   ]
  },
  {
   "cell_type": "code",
   "execution_count": 4,
   "id": "36601f39",
   "metadata": {},
   "outputs": [],
   "source": [
    "w=csv.writer(f)"
   ]
  },
  {
   "cell_type": "code",
   "execution_count": null,
   "id": "208703ad",
   "metadata": {},
   "outputs": [],
   "source": []
  }
 ],
 "metadata": {
  "kernelspec": {
   "display_name": "Python 3 (ipykernel)",
   "language": "python",
   "name": "python3"
  },
  "language_info": {
   "codemirror_mode": {
    "name": "ipython",
    "version": 3
   },
   "file_extension": ".py",
   "mimetype": "text/x-python",
   "name": "python",
   "nbconvert_exporter": "python",
   "pygments_lexer": "ipython3",
   "version": "3.11.4"
  }
 },
 "nbformat": 4,
 "nbformat_minor": 5
}
